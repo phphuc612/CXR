{
 "cells": [
  {
   "cell_type": "code",
   "execution_count": 1,
   "metadata": {},
   "outputs": [
    {
     "name": "stderr",
     "output_type": "stream",
     "text": [
      "INFO:src.data_management.dataset:__getitem__ executed in 0.05 s\n"
     ]
    }
   ],
   "source": [
    "from src.data_management.dataset import CxrDatasetVer1, DatasetSplit\n",
    "ds = CxrDatasetVer1(\n",
    "    metadata_path='data/metadata/mimic-cxr-2.0.0-metadata.csv',\n",
    "    split_path='data/metadata/mimic-cxr-2.0.0-split.csv',\n",
    "    report_dir='data/mimic-cxr-reports',\n",
    "    img_dir='data/cxr_dataset',\n",
    "    split=DatasetSplit.TRAIN\n",
    ")\n",
    "img, text = ds.__getitem__(0)"
   ]
  },
  {
   "cell_type": "code",
   "execution_count": null,
   "metadata": {},
   "outputs": [],
   "source": []
  }
 ],
 "metadata": {
  "kernelspec": {
   "display_name": "med",
   "language": "python",
   "name": "python3"
  },
  "language_info": {
   "codemirror_mode": {
    "name": "ipython",
    "version": 3
   },
   "file_extension": ".py",
   "mimetype": "text/x-python",
   "name": "python",
   "nbconvert_exporter": "python",
   "pygments_lexer": "ipython3",
   "version": "3.9.18"
  }
 },
 "nbformat": 4,
 "nbformat_minor": 2
}
